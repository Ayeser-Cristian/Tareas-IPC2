{
  "nbformat": 4,
  "nbformat_minor": 0,
  "metadata": {
    "colab": {
      "name": "2.Listas circulares.ipynb",
      "provenance": [],
      "authorship_tag": "ABX9TyPZYQ169UmohKQ5IAyheSVT",
      "include_colab_link": true
    },
    "kernelspec": {
      "name": "python3",
      "display_name": "Python 3"
    },
    "language_info": {
      "name": "python"
    }
  },
  "cells": [
    {
      "cell_type": "markdown",
      "metadata": {
        "id": "view-in-github",
        "colab_type": "text"
      },
      "source": [
        "<a href=\"https://colab.research.google.com/github/Ayeser-Cristian/Tareas-IPC2/blob/main/Tarea%232.ipynb\" target=\"_parent\"><img src=\"https://colab.research.google.com/assets/colab-badge.svg\" alt=\"Open In Colab\"/></a>"
      ]
    },
    {
      "cell_type": "markdown",
      "metadata": {
        "id": "nc_DjKfTzPca"
      },
      "source": [
        "**Listas Circulares**\n"
      ]
    },
    {
      "cell_type": "code",
      "metadata": {
        "id": "XpKmtuldzUoI"
      },
      "source": [
        "class estudiante:\n",
        "  def __init__(self, carne, nombre, edad, direccion, telefono, email, carrera, puesto):\n",
        "    self.carne = carne\n",
        "    self.nombre = nombre\n",
        "    self.edad = edad\n",
        "    self.direccion = direccion\n",
        "    self.telefono = telefono\n",
        "    self.email = email\n",
        "    self.carrera = carrera\n",
        "    self.puesto = puesto"
      ],
      "execution_count": 1,
      "outputs": []
    },
    {
      "cell_type": "markdown",
      "metadata": {
        "id": "IevrRECY1YB0"
      },
      "source": [
        "***Definición de clase Nodo***\n"
      ]
    },
    {
      "cell_type": "code",
      "metadata": {
        "id": "LbDSRE3F1bQi"
      },
      "source": [
        "class nodo:\n",
        "  def __init__(self, estudiante=None, siguiente=None):\n",
        "    self.estudiante = estudiante\n",
        "    self.siguiente = siguiente"
      ],
      "execution_count": 2,
      "outputs": []
    },
    {
      "cell_type": "markdown",
      "metadata": {
        "id": "o-YDPTNR1fsa"
      },
      "source": [
        "***Definición de la clase Lista Circular***\n"
      ]
    },
    {
      "cell_type": "code",
      "metadata": {
        "id": "hZANjovD1kSf"
      },
      "source": [
        "class lista_circular:\n",
        "  def __init__(self):\n",
        "    self.primero = None\n",
        "\n",
        "  def insertar(self, estudiante):\n",
        "    if self.primero is None:\n",
        "      self.primero = nodo(estudiante=estudiante)\n",
        "      self.primero.siguiente = self.primero\n",
        "    else:\n",
        "      actual = nodo(estudiante=estudiante, siguiente=self.primero.siguiente)\n",
        "      self.primero.siguiente = actual\n",
        "\n",
        "  def recorrer(self):\n",
        "    if self.primero is None:\n",
        "      return\n",
        "    actual = self.primero\n",
        "    print(\"carne:\", actual.estudiante.carne, \"nombre:\" , actual.estudiante.nombre, \"email:\" , actual.estudiante.email, \"->\")\n",
        "    while actual.siguiente != self.primero:\n",
        "      actual = actual.siguiente\n",
        "      print(\"carne:\", actual.estudiante.carne, \"nombre:\" , actual.estudiante.nombre, \"email:\" , actual.estudiante.email, \"->\")\n",
        "\n",
        "  def eliminar(self,carne):\n",
        "    actual=self.primero\n",
        "    anterior=None\n",
        "    no_encontrado=False\n",
        "    while actual and actual.estudiante.carne != carne:\n",
        "      anterior=actual\n",
        "      actual=actual.siguiente\n",
        "      if actual==self.primero:\n",
        "        no_encontrado=True\n",
        "        break\n",
        "    if not no_encontrado:\n",
        "      if anterior is not None:\n",
        "        anterior.siguiente=actual.siguiente\n",
        "      else:\n",
        "        while actual.siguiente!=self.primero:\n",
        "          actual=actual.siguiente\n",
        "        actual.siguiente=self.primero.siguiente\n",
        "        self.primero=self.primero.siguiente\n",
        "\n",
        "  ##METODO BUSCAR\n",
        "\n",
        "  def buscar(self, carne):\n",
        "    actual=self.primero\n",
        "    anterior=None\n",
        "    no_encontrado=False\n",
        "    while actual and actual.estudiante.carne != carne:\n",
        "      anterior=actual\n",
        "      actual=actual.siguiente\n",
        "      if actual==self.primero:\n",
        "        no_encontrado=True\n",
        "        break\n",
        "    if not no_encontrado:\n",
        "      while actual !=None:\n",
        "        if actual.estudiante.carne == carne:\n",
        "            print(\"carne: \", actual.estudiante.carne, \"nombre: \", actual.estudiante.nombre, \"email: \", actual.estudiante.email, \"->\" )\n",
        "            break \n",
        "        else:\n",
        "            actual = actual.siguiente\n",
        "    else:\n",
        "      print(\"Los datos del carne:\",carne,\"no existen\")\n",
        "    \n",
        "\n",
        "\n",
        "\n",
        "        ##tareas-ipc2\n",
        "        ##tarea-1 cuaderno"
      ],
      "execution_count": 3,
      "outputs": []
    },
    {
      "cell_type": "markdown",
      "metadata": {
        "id": "4qS8CHh1-FGH"
      },
      "source": [
        "***Creación de objetos Estudiantes***"
      ]
    },
    {
      "cell_type": "code",
      "metadata": {
        "id": "4bie1Z-M-FvK"
      },
      "source": [
        "e1 = estudiante(201915059, \"Gerson Ortiz\", 20, \"9 calle 10-02 zona 1\", 24400101, \"gerson.ortiz@gmail.com\", \"Ingenieria en Sistemas\", \"Progaramador Jr\")\n",
        "e2 = estudiante(201915060, \"Karen Hurtarte\", 21, \"7 calle 10-02 zona 1\", 24400102, \"karen.hurtarte@gmail.com\", \"Ingenieria en Sistemas\", \"Progaramador Jr\")\n",
        "e3 = estudiante(201915061, \"Luis Mendez\", 22, \"8 calle 10-02 zona 1\", 24400103, \"luis.mendez@gmail.com\", \"Ingenieria en Sistemas\", \"Progaramador Jr\")"
      ],
      "execution_count": 4,
      "outputs": []
    },
    {
      "cell_type": "markdown",
      "metadata": {
        "id": "iI5O1Hmd-JA4"
      },
      "source": [
        "***Inserción***"
      ]
    },
    {
      "cell_type": "code",
      "metadata": {
        "id": "zVd2wheW-MAq"
      },
      "source": [
        "lista_c=lista_circular()\n",
        "lista_c.insertar(e1)\n",
        "lista_c.insertar(e2)\n",
        "lista_c.insertar(e3)"
      ],
      "execution_count": 5,
      "outputs": []
    },
    {
      "cell_type": "markdown",
      "metadata": {
        "id": "gjoKjgVd-X76"
      },
      "source": [
        "***Recorrer la Lista***"
      ]
    },
    {
      "cell_type": "code",
      "metadata": {
        "colab": {
          "base_uri": "https://localhost:8080/"
        },
        "id": "a2lsXSbl-aAQ",
        "outputId": "a4b52488-f4a8-4405-d976-fb8eaee8706b"
      },
      "source": [
        "lista_c.recorrer()"
      ],
      "execution_count": 6,
      "outputs": [
        {
          "output_type": "stream",
          "text": [
            "carne: 201915059 nombre: Gerson Ortiz email: gerson.ortiz@gmail.com ->\n",
            "carne: 201915061 nombre: Luis Mendez email: luis.mendez@gmail.com ->\n",
            "carne: 201915060 nombre: Karen Hurtarte email: karen.hurtarte@gmail.com ->\n"
          ],
          "name": "stdout"
        }
      ]
    },
    {
      "cell_type": "markdown",
      "metadata": {
        "id": "DHHlM3_QrsNH"
      },
      "source": [
        "***Eliminar un nodo de la Lista***"
      ]
    },
    {
      "cell_type": "code",
      "metadata": {
        "colab": {
          "base_uri": "https://localhost:8080/"
        },
        "id": "iig8SjT_rv3p",
        "outputId": "8de73582-91e2-4eab-8264-ca212cd05e2b"
      },
      "source": [
        "lista_c.eliminar(201915061)\n",
        "lista_c.recorrer()"
      ],
      "execution_count": 7,
      "outputs": [
        {
          "output_type": "stream",
          "text": [
            "carne: 201915059 nombre: Gerson Ortiz email: gerson.ortiz@gmail.com ->\n",
            "carne: 201915060 nombre: Karen Hurtarte email: karen.hurtarte@gmail.com ->\n"
          ],
          "name": "stdout"
        }
      ]
    },
    {
      "cell_type": "markdown",
      "metadata": {
        "id": "wIOMb4fUUUWh"
      },
      "source": [
        "***Buscar nodos de la Lista***"
      ]
    },
    {
      "cell_type": "code",
      "metadata": {
        "colab": {
          "base_uri": "https://localhost:8080/"
        },
        "id": "zAjORdecUZGB",
        "outputId": "cdcd34ba-5780-4a4d-c0d9-81740fe0aa1b"
      },
      "source": [
        "lista_c.buscar(201915059) \n",
        "lista_c.buscar(201915061)#Este Dato no será encontrado, ya que anteriormente fue eliminado, solo se usa como fin de prueba de que no se genera un bucle al momento de no encontrar datos.\n",
        "lista_c.buscar(201915060)\n"
      ],
      "execution_count": 8,
      "outputs": [
        {
          "output_type": "stream",
          "text": [
            "carne:  201915059 nombre:  Gerson Ortiz email:  gerson.ortiz@gmail.com ->\n",
            "Los datos del carne: 201915061 no existen\n",
            "carne:  201915060 nombre:  Karen Hurtarte email:  karen.hurtarte@gmail.com ->\n"
          ],
          "name": "stdout"
        }
      ]
    }
  ]
}